{
 "cells": [
  {
   "cell_type": "code",
   "execution_count": 18,
   "id": "3ee637ad",
   "metadata": {},
   "outputs": [
    {
     "name": "stdout",
     "output_type": "stream",
     "text": [
      "done\n"
     ]
    }
   ],
   "source": [
    "import json\n",
    "import os\n",
    "\n",
    "manifest_path = 'tts_audio_text_train_filelist.txt'\n",
    "with open(manifest_path, 'r', encoding=\"utf-8\") as f:  \n",
    "    Lines = f.readlines()\n",
    "    count = 0\n",
    "    # Strips the newline character\n",
    "    for line in Lines:\n",
    "#         print(\"{}\".format(line.strip()[0:line.find('|')]))\n",
    "        isFile = os.path.isfile(line.strip()[0:line.find('|')]) \n",
    "        if isFile is False:\n",
    "            print(line.strip()[0:line.find('|')])\n",
    "print(\"done\")\n"
   ]
  },
  {
   "cell_type": "code",
   "execution_count": 19,
   "id": "84576884",
   "metadata": {},
   "outputs": [],
   "source": [
    "import tarfile\n",
    "file = \"dataset/LJSpeech-1.1.tar.bz2\"\n",
    "my_tar = tarfile.open(file)\n",
    "my_tar.extractall('./dataset')\n",
    "my_tar.close()"
   ]
  },
  {
   "cell_type": "code",
   "execution_count": 6,
   "id": "bc4785cf",
   "metadata": {},
   "outputs": [
    {
     "ename": "RuntimeError",
     "evalue": "Error opening 'dataset/yeraltindanNotlar\\\\preproc_log.json': File contains data in an unknown format.",
     "output_type": "error",
     "traceback": [
      "\u001b[1;31m---------------------------------------------------------------------------\u001b[0m",
      "\u001b[1;31mRuntimeError\u001b[0m                              Traceback (most recent call last)",
      "\u001b[1;32m<ipython-input-6-c37cf1a028e0>\u001b[0m in \u001b[0;36m<module>\u001b[1;34m\u001b[0m\n\u001b[0;32m     14\u001b[0m \u001b[1;32mfor\u001b[0m \u001b[0mfile\u001b[0m \u001b[1;32min\u001b[0m \u001b[0moriginal_files\u001b[0m\u001b[1;33m:\u001b[0m\u001b[1;33m\u001b[0m\u001b[1;33m\u001b[0m\u001b[0m\n\u001b[0;32m     15\u001b[0m \u001b[1;33m\u001b[0m\u001b[0m\n\u001b[1;32m---> 16\u001b[1;33m     \u001b[0my\u001b[0m\u001b[1;33m,\u001b[0m \u001b[0msr\u001b[0m \u001b[1;33m=\u001b[0m \u001b[0mtorchaudio\u001b[0m\u001b[1;33m.\u001b[0m\u001b[0mload\u001b[0m\u001b[1;33m(\u001b[0m\u001b[0mfile\u001b[0m\u001b[1;33m)\u001b[0m\u001b[1;33m\u001b[0m\u001b[1;33m\u001b[0m\u001b[0m\n\u001b[0m\u001b[0;32m     17\u001b[0m     \u001b[0my\u001b[0m \u001b[1;33m=\u001b[0m \u001b[0my\u001b[0m\u001b[1;33m.\u001b[0m\u001b[0mmean\u001b[0m\u001b[1;33m(\u001b[0m\u001b[0mdim\u001b[0m\u001b[1;33m=\u001b[0m\u001b[1;36m0\u001b[0m\u001b[1;33m)\u001b[0m \u001b[1;31m# if there are multiple channels, average them to single channel\u001b[0m\u001b[1;33m\u001b[0m\u001b[1;33m\u001b[0m\u001b[0m\n\u001b[0;32m     18\u001b[0m \u001b[1;33m\u001b[0m\u001b[0m\n",
      "\u001b[1;32m~\\Desktop\\uluc_nemo\\uluc_nemo\\lib\\site-packages\\torchaudio\\backend\\soundfile_backend.py\u001b[0m in \u001b[0;36mload\u001b[1;34m(filepath, out, normalization, channels_first, num_frames, offset, signalinfo, encodinginfo, filetype)\u001b[0m\n\u001b[0;32m     60\u001b[0m     \u001b[1;31m# TODO call libsoundfile directly to avoid numpy\u001b[0m\u001b[1;33m\u001b[0m\u001b[1;33m\u001b[0m\u001b[1;33m\u001b[0m\u001b[0m\n\u001b[0;32m     61\u001b[0m     out, sample_rate = soundfile.read(\n\u001b[1;32m---> 62\u001b[1;33m         \u001b[0mfilepath\u001b[0m\u001b[1;33m,\u001b[0m \u001b[0mframes\u001b[0m\u001b[1;33m=\u001b[0m\u001b[0mnum_frames\u001b[0m\u001b[1;33m,\u001b[0m \u001b[0mstart\u001b[0m\u001b[1;33m=\u001b[0m\u001b[0moffset\u001b[0m\u001b[1;33m,\u001b[0m \u001b[0mdtype\u001b[0m\u001b[1;33m=\u001b[0m\u001b[1;34m\"float32\"\u001b[0m\u001b[1;33m,\u001b[0m \u001b[0malways_2d\u001b[0m\u001b[1;33m=\u001b[0m\u001b[1;32mTrue\u001b[0m\u001b[1;33m\u001b[0m\u001b[1;33m\u001b[0m\u001b[0m\n\u001b[0m\u001b[0;32m     63\u001b[0m     )\n\u001b[0;32m     64\u001b[0m     \u001b[0mout\u001b[0m \u001b[1;33m=\u001b[0m \u001b[0mtorch\u001b[0m\u001b[1;33m.\u001b[0m\u001b[0mfrom_numpy\u001b[0m\u001b[1;33m(\u001b[0m\u001b[0mout\u001b[0m\u001b[1;33m)\u001b[0m\u001b[1;33m.\u001b[0m\u001b[0mt\u001b[0m\u001b[1;33m(\u001b[0m\u001b[1;33m)\u001b[0m\u001b[1;33m\u001b[0m\u001b[1;33m\u001b[0m\u001b[0m\n",
      "\u001b[1;32m~\\Desktop\\uluc_nemo\\uluc_nemo\\lib\\site-packages\\soundfile.py\u001b[0m in \u001b[0;36mread\u001b[1;34m(file, frames, start, stop, dtype, always_2d, fill_value, out, samplerate, channels, format, subtype, endian, closefd)\u001b[0m\n\u001b[0;32m    255\u001b[0m     \"\"\"\n\u001b[0;32m    256\u001b[0m     with SoundFile(file, 'r', samplerate, channels,\n\u001b[1;32m--> 257\u001b[1;33m                    subtype, endian, format, closefd) as f:\n\u001b[0m\u001b[0;32m    258\u001b[0m         \u001b[0mframes\u001b[0m \u001b[1;33m=\u001b[0m \u001b[0mf\u001b[0m\u001b[1;33m.\u001b[0m\u001b[0m_prepare_read\u001b[0m\u001b[1;33m(\u001b[0m\u001b[0mstart\u001b[0m\u001b[1;33m,\u001b[0m \u001b[0mstop\u001b[0m\u001b[1;33m,\u001b[0m \u001b[0mframes\u001b[0m\u001b[1;33m)\u001b[0m\u001b[1;33m\u001b[0m\u001b[1;33m\u001b[0m\u001b[0m\n\u001b[0;32m    259\u001b[0m         \u001b[0mdata\u001b[0m \u001b[1;33m=\u001b[0m \u001b[0mf\u001b[0m\u001b[1;33m.\u001b[0m\u001b[0mread\u001b[0m\u001b[1;33m(\u001b[0m\u001b[0mframes\u001b[0m\u001b[1;33m,\u001b[0m \u001b[0mdtype\u001b[0m\u001b[1;33m,\u001b[0m \u001b[0malways_2d\u001b[0m\u001b[1;33m,\u001b[0m \u001b[0mfill_value\u001b[0m\u001b[1;33m,\u001b[0m \u001b[0mout\u001b[0m\u001b[1;33m)\u001b[0m\u001b[1;33m\u001b[0m\u001b[1;33m\u001b[0m\u001b[0m\n",
      "\u001b[1;32m~\\Desktop\\uluc_nemo\\uluc_nemo\\lib\\site-packages\\soundfile.py\u001b[0m in \u001b[0;36m__init__\u001b[1;34m(self, file, mode, samplerate, channels, subtype, endian, format, closefd)\u001b[0m\n\u001b[0;32m    627\u001b[0m         self._info = _create_info_struct(file, mode, samplerate, channels,\n\u001b[0;32m    628\u001b[0m                                          format, subtype, endian)\n\u001b[1;32m--> 629\u001b[1;33m         \u001b[0mself\u001b[0m\u001b[1;33m.\u001b[0m\u001b[0m_file\u001b[0m \u001b[1;33m=\u001b[0m \u001b[0mself\u001b[0m\u001b[1;33m.\u001b[0m\u001b[0m_open\u001b[0m\u001b[1;33m(\u001b[0m\u001b[0mfile\u001b[0m\u001b[1;33m,\u001b[0m \u001b[0mmode_int\u001b[0m\u001b[1;33m,\u001b[0m \u001b[0mclosefd\u001b[0m\u001b[1;33m)\u001b[0m\u001b[1;33m\u001b[0m\u001b[1;33m\u001b[0m\u001b[0m\n\u001b[0m\u001b[0;32m    630\u001b[0m         \u001b[1;32mif\u001b[0m \u001b[0mset\u001b[0m\u001b[1;33m(\u001b[0m\u001b[0mmode\u001b[0m\u001b[1;33m)\u001b[0m\u001b[1;33m.\u001b[0m\u001b[0missuperset\u001b[0m\u001b[1;33m(\u001b[0m\u001b[1;34m'r+'\u001b[0m\u001b[1;33m)\u001b[0m \u001b[1;32mand\u001b[0m \u001b[0mself\u001b[0m\u001b[1;33m.\u001b[0m\u001b[0mseekable\u001b[0m\u001b[1;33m(\u001b[0m\u001b[1;33m)\u001b[0m\u001b[1;33m:\u001b[0m\u001b[1;33m\u001b[0m\u001b[1;33m\u001b[0m\u001b[0m\n\u001b[0;32m    631\u001b[0m             \u001b[1;31m# Move write position to 0 (like in Python file objects)\u001b[0m\u001b[1;33m\u001b[0m\u001b[1;33m\u001b[0m\u001b[1;33m\u001b[0m\u001b[0m\n",
      "\u001b[1;32m~\\Desktop\\uluc_nemo\\uluc_nemo\\lib\\site-packages\\soundfile.py\u001b[0m in \u001b[0;36m_open\u001b[1;34m(self, file, mode_int, closefd)\u001b[0m\n\u001b[0;32m   1182\u001b[0m             \u001b[1;32mraise\u001b[0m \u001b[0mTypeError\u001b[0m\u001b[1;33m(\u001b[0m\u001b[1;34m\"Invalid file: {0!r}\"\u001b[0m\u001b[1;33m.\u001b[0m\u001b[0mformat\u001b[0m\u001b[1;33m(\u001b[0m\u001b[0mself\u001b[0m\u001b[1;33m.\u001b[0m\u001b[0mname\u001b[0m\u001b[1;33m)\u001b[0m\u001b[1;33m)\u001b[0m\u001b[1;33m\u001b[0m\u001b[1;33m\u001b[0m\u001b[0m\n\u001b[0;32m   1183\u001b[0m         _error_check(_snd.sf_error(file_ptr),\n\u001b[1;32m-> 1184\u001b[1;33m                      \"Error opening {0!r}: \".format(self.name))\n\u001b[0m\u001b[0;32m   1185\u001b[0m         \u001b[1;32mif\u001b[0m \u001b[0mmode_int\u001b[0m \u001b[1;33m==\u001b[0m \u001b[0m_snd\u001b[0m\u001b[1;33m.\u001b[0m\u001b[0mSFM_WRITE\u001b[0m\u001b[1;33m:\u001b[0m\u001b[1;33m\u001b[0m\u001b[1;33m\u001b[0m\u001b[0m\n\u001b[0;32m   1186\u001b[0m             \u001b[1;31m# Due to a bug in libsndfile version <= 1.0.25, frames != 0\u001b[0m\u001b[1;33m\u001b[0m\u001b[1;33m\u001b[0m\u001b[1;33m\u001b[0m\u001b[0m\n",
      "\u001b[1;32m~\\Desktop\\uluc_nemo\\uluc_nemo\\lib\\site-packages\\soundfile.py\u001b[0m in \u001b[0;36m_error_check\u001b[1;34m(err, prefix)\u001b[0m\n\u001b[0;32m   1355\u001b[0m     \u001b[1;32mif\u001b[0m \u001b[0merr\u001b[0m \u001b[1;33m!=\u001b[0m \u001b[1;36m0\u001b[0m\u001b[1;33m:\u001b[0m\u001b[1;33m\u001b[0m\u001b[1;33m\u001b[0m\u001b[0m\n\u001b[0;32m   1356\u001b[0m         \u001b[0merr_str\u001b[0m \u001b[1;33m=\u001b[0m \u001b[0m_snd\u001b[0m\u001b[1;33m.\u001b[0m\u001b[0msf_error_number\u001b[0m\u001b[1;33m(\u001b[0m\u001b[0merr\u001b[0m\u001b[1;33m)\u001b[0m\u001b[1;33m\u001b[0m\u001b[1;33m\u001b[0m\u001b[0m\n\u001b[1;32m-> 1357\u001b[1;33m         \u001b[1;32mraise\u001b[0m \u001b[0mRuntimeError\u001b[0m\u001b[1;33m(\u001b[0m\u001b[0mprefix\u001b[0m \u001b[1;33m+\u001b[0m \u001b[0m_ffi\u001b[0m\u001b[1;33m.\u001b[0m\u001b[0mstring\u001b[0m\u001b[1;33m(\u001b[0m\u001b[0merr_str\u001b[0m\u001b[1;33m)\u001b[0m\u001b[1;33m.\u001b[0m\u001b[0mdecode\u001b[0m\u001b[1;33m(\u001b[0m\u001b[1;34m'utf-8'\u001b[0m\u001b[1;33m,\u001b[0m \u001b[1;34m'replace'\u001b[0m\u001b[1;33m)\u001b[0m\u001b[1;33m)\u001b[0m\u001b[1;33m\u001b[0m\u001b[1;33m\u001b[0m\u001b[0m\n\u001b[0m\u001b[0;32m   1358\u001b[0m \u001b[1;33m\u001b[0m\u001b[0m\n\u001b[0;32m   1359\u001b[0m \u001b[1;33m\u001b[0m\u001b[0m\n",
      "\u001b[1;31mRuntimeError\u001b[0m: Error opening 'dataset/yeraltindanNotlar\\\\preproc_log.json': File contains data in an unknown format."
     ]
    }
   ],
   "source": [
    "import os\n",
    "import torchaudio\n",
    "import soundfile as sf\n",
    "original_files = []\n",
    "\n",
    "dataset_dir = 'dataset/yeraltindanNotlar'\n",
    "recordings = [ os.path.join(dataset_dir, name) for name in os.listdir(dataset_dir) if os.path.isfile(os.path.join(dataset_dir, name)) ]\n",
    "\n",
    "for file in recordings:\n",
    "    original_files.append(file)\n",
    "\n",
    "resampled_path =  'dataset/'\n",
    "\n",
    "for file in original_files:\n",
    "\n",
    "    y, sr = torchaudio.load(file)\n",
    "    y = y.mean(dim=0) # if there are multiple channels, average them to single channel\n",
    "\n",
    "    resampler = torchaudio.transforms.Resample(sr, 22050)\n",
    "    y_resampled = resampler(y)\n",
    "    new_path = os.path.join(resampled_path,file.split(\"/\")[-1])\n",
    "    \n",
    "    sf.write(new_path, y_resampled.numpy(), 22050)"
   ]
  },
  {
   "cell_type": "code",
   "execution_count": 12,
   "id": "37454f05",
   "metadata": {},
   "outputs": [
    {
     "name": "stdout",
     "output_type": "stream",
     "text": [
      "DLL 2022-12-02 13:50:48.034010 - PARAMETER dataset_path : dataset/LJSpeech-1.1 \n",
      "DLL 2022-12-02 13:50:48.035007 - PARAMETER wav_text_filelists : ['dataset/LJSpeech-1.1/ljs_audio_text.txt'] \n",
      "DLL 2022-12-02 13:50:48.035007 - PARAMETER extract_mels : True \n",
      "DLL 2022-12-02 13:50:48.035007 - PARAMETER extract_pitch : True \n",
      "DLL 2022-12-02 13:50:48.035007 - PARAMETER save_alignment_priors : False \n",
      "DLL 2022-12-02 13:50:48.035007 - PARAMETER log_file : preproc_log.json \n",
      "DLL 2022-12-02 13:50:48.035007 - PARAMETER n_speakers : 1 \n",
      "DLL 2022-12-02 13:50:48.035007 - PARAMETER max_wav_value : 32768.0 \n",
      "DLL 2022-12-02 13:50:48.035007 - PARAMETER sampling_rate : 22050 \n",
      "DLL 2022-12-02 13:50:48.035007 - PARAMETER filter_length : 1024 \n",
      "DLL 2022-12-02 13:50:48.035007 - PARAMETER hop_length : 256 \n",
      "DLL 2022-12-02 13:50:48.035007 - PARAMETER win_length : 1024 \n",
      "DLL 2022-12-02 13:50:48.035007 - PARAMETER mel_fmin : 0.0 \n",
      "DLL 2022-12-02 13:50:48.035007 - PARAMETER mel_fmax : 8000.0 \n",
      "DLL 2022-12-02 13:50:48.035007 - PARAMETER n_mel_channels : 80 \n",
      "DLL 2022-12-02 13:50:48.035007 - PARAMETER f0_method : pyin \n",
      "DLL 2022-12-02 13:50:48.035007 - PARAMETER batch_size : 1 \n",
      "DLL 2022-12-02 13:50:48.035007 - PARAMETER n_workers : 2 \n",
      "Processing dataset/LJSpeech-1.1/ljs_audio_text.txt...\n"
     ]
    },
    {
     "name": "stderr",
     "output_type": "stream",
     "text": [
      "\n",
      "  0%|          | 0/13100 [00:00<?, ?it/s]\n",
      "  0%|          | 0/13100 [00:03<?, ?it/s]\n",
      "Traceback (most recent call last):\n",
      "  File \"C:\\Users\\developer\\Desktop\\turkish-text2speech\\text2speech\\Fastpitch\\prepare_dataset.py\", line 175, in <module>\n",
      "    main()\n",
      "  File \"C:\\Users\\developer\\Desktop\\turkish-text2speech\\text2speech\\Fastpitch\\prepare_dataset.py\", line 143, in main\n",
      "    for i, batch in enumerate(tqdm.tqdm(data_loader)):\n",
      "  File \"C:\\Users\\developer\\anaconda3\\lib\\site-packages\\tqdm\\std.py\", line 1180, in __iter__\n",
      "    for obj in iterable:\n",
      "  File \"C:\\Users\\developer\\anaconda3\\lib\\site-packages\\torch\\utils\\data\\dataloader.py\", line 368, in __iter__\n",
      "    return self._get_iterator()\n",
      "  File \"C:\\Users\\developer\\anaconda3\\lib\\site-packages\\torch\\utils\\data\\dataloader.py\", line 314, in _get_iterator\n",
      "Traceback (most recent call last):\n",
      "  File \"<string>\", line 1, in <module>\n",
      "    return _MultiProcessingDataLoaderIter(self)\n",
      "  File \"C:\\Users\\developer\\anaconda3\\lib\\site-packages\\torch\\utils\\data\\dataloader.py\", line 927, in __init__\n",
      "  File \"C:\\Users\\developer\\anaconda3\\lib\\multiprocessing\\spawn.py\", line 116, in spawn_main\n",
      "    w.start()\n",
      "  File \"C:\\Users\\developer\\anaconda3\\lib\\multiprocessing\\process.py\", line 121, in start\n",
      "    exitcode = _main(fd, parent_sentinel)\n",
      "  File \"C:\\Users\\developer\\anaconda3\\lib\\multiprocessing\\spawn.py\", line 126, in _main\n",
      "    self._popen = self._Popen(self)\n",
      "  File \"C:\\Users\\developer\\anaconda3\\lib\\multiprocessing\\context.py\", line 224, in _Popen\n",
      "    self = reduction.pickle.load(from_parent)\n",
      "EOFError: Ran out of input\n",
      "    return _default_context.get_context().Process._Popen(process_obj)\n",
      "  File \"C:\\Users\\developer\\anaconda3\\lib\\multiprocessing\\context.py\", line 327, in _Popen\n",
      "    return Popen(process_obj)\n",
      "  File \"C:\\Users\\developer\\anaconda3\\lib\\multiprocessing\\popen_spawn_win32.py\", line 93, in __init__\n",
      "    reduction.dump(process_obj, to_child)\n",
      "  File \"C:\\Users\\developer\\anaconda3\\lib\\multiprocessing\\reduction.py\", line 60, in dump\n",
      "    ForkingPickler(file, protocol).dump(obj)\n",
      "_pickle.PicklingError: Can't pickle <functools._lru_cache_wrapper object at 0x0000019D8E12E180>: it's not the same object as fastpitch.data_function.beta_binomial_prior_distribution\n"
     ]
    }
   ],
   "source": [
    "# TODO: CHANGE NUMWORKERS= 0\n",
    "!(python prepare_dataset.py --wav-text-filelists dataset/LJSpeech-1.1/ljs_audio_text.txt --n-workers 2 --batch-size 1 --dataset-path dataset/LJSpeech-1.1 --extract-pitch --f0-method pyin --extract-mels)"
   ]
  }
 ],
 "metadata": {
  "kernelspec": {
   "display_name": "uluc_nemo",
   "language": "python",
   "name": "uluc_nemo"
  }
 },
 "nbformat": 4,
 "nbformat_minor": 5
}
