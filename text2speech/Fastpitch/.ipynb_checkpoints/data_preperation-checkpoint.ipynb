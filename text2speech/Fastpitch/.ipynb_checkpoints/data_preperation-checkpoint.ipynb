{
 "cells": [
  {
   "cell_type": "code",
   "execution_count": 10,
   "metadata": {},
   "outputs": [
    {
     "name": "stdout",
     "output_type": "stream",
     "text": [
      "Collecting nvidia-pyindex\n",
      "  Downloading nvidia-pyindex-1.0.9.tar.gz (10 kB)\n",
      "Building wheels for collected packages: nvidia-pyindex\n",
      "  Building wheel for nvidia-pyindex (setup.py) ... \u001b[?25ldone\n",
      "\u001b[?25h  Created wheel for nvidia-pyindex: filename=nvidia_pyindex-1.0.9-py3-none-any.whl size=8399 sha256=7ce2ce5aa71dcf5c5c3975151372debdcde8631f0d6c46692e820150ba4afe00\n",
      "  Stored in directory: /root/.cache/pip/wheels/e0/c2/fb/5cf4e1cfaf28007238362cb746fb38fc2dd76348331a748d54\n",
      "Successfully built nvidia-pyindex\n",
      "Installing collected packages: nvidia-pyindex\n",
      "Successfully installed nvidia-pyindex-1.0.9\n",
      "Looking in indexes: https://pypi.org/simple, https://pypi.ngc.nvidia.com\n",
      "Collecting nvidia-dllogger\n",
      "  Downloading https://developer.download.nvidia.com/compute/redist/nvidia-dllogger/nvidia_dllogger-0.1.0-py3-none-any.whl (5.5 kB)\n",
      "Installing collected packages: nvidia-dllogger\n",
      "Successfully installed nvidia-dllogger-0.1.0\n"
     ]
    }
   ],
   "source": [
    "!pip install nvidia-pyindex\n",
    "!pip install nvidia-dllogger"
   ]
  },
  {
   "cell_type": "code",
   "execution_count": 4,
   "metadata": {},
   "outputs": [
    {
     "name": "stdout",
     "output_type": "stream",
     "text": [
      "DLL 2022-12-05 10:51:58.352150 - PARAMETER dataset_path : dataset \n",
      "DLL 2022-12-05 10:51:58.352266 - PARAMETER wav_text_filelists : ['dataset/tts_data.txt'] \n",
      "DLL 2022-12-05 10:51:58.352331 - PARAMETER extract_mels : True \n",
      "DLL 2022-12-05 10:51:58.352394 - PARAMETER extract_pitch : True \n",
      "DLL 2022-12-05 10:51:58.352443 - PARAMETER save_alignment_priors : False \n",
      "DLL 2022-12-05 10:51:58.352491 - PARAMETER log_file : preproc_log.json \n",
      "DLL 2022-12-05 10:51:58.352538 - PARAMETER n_speakers : 1 \n",
      "DLL 2022-12-05 10:51:58.352585 - PARAMETER max_wav_value : 32768.0 \n",
      "DLL 2022-12-05 10:51:58.352633 - PARAMETER sampling_rate : 22050 \n",
      "DLL 2022-12-05 10:51:58.352679 - PARAMETER filter_length : 1024 \n",
      "DLL 2022-12-05 10:51:58.352725 - PARAMETER hop_length : 256 \n",
      "DLL 2022-12-05 10:51:58.352772 - PARAMETER win_length : 1024 \n",
      "DLL 2022-12-05 10:51:58.352818 - PARAMETER mel_fmin : 0.0 \n",
      "DLL 2022-12-05 10:51:58.352874 - PARAMETER mel_fmax : 8000.0 \n",
      "DLL 2022-12-05 10:51:58.352931 - PARAMETER n_mel_channels : 80 \n",
      "DLL 2022-12-05 10:51:58.352978 - PARAMETER f0_method : pyin \n",
      "DLL 2022-12-05 10:51:58.353028 - PARAMETER batch_size : 1 \n",
      "DLL 2022-12-05 10:51:58.353079 - PARAMETER n_workers : 0 \n",
      "Processing dataset/tts_data.txt...\n",
      "100%|█████████████████████████████████████████| 244/244 [12:08<00:00,  2.99s/it]\n",
      "\u001b[0m"
     ]
    }
   ],
   "source": [
    "# Run the pre-processing script to calculate pitch:\n",
    "!(python prepare_dataset.py --wav-text-filelists dataset/tts_data.txt --n-workers 16 --batch-size 1 --dataset-path dataset --extract-pitch --f0-method pyin --extract-mels)"
   ]
  },
  {
   "cell_type": "code",
   "execution_count": 5,
   "metadata": {},
   "outputs": [],
   "source": [
    "from common.text.turkish_text_normalization import turkish_text_normalizer\n",
    "def create_picth_text_file(manifest_path):\n",
    "    with open(manifest_path, 'r', encoding=\"utf-8\") as f:  \n",
    "        Lines = f.readlines()\n",
    "        for line in Lines:\n",
    "            ext = line.strip()[line.find('|'):]\n",
    "            text = text.lower()\n",
    "            text = turkish_text_normalizer.normalize_text(text)\n",
    "            new_line = line.strip()[0:line.find('|')] + \"|pitch\" + \\\n",
    "        line.strip()[line.find('/'):line.find('.wav')] + \".pt\" + ltext\n",
    "            with open('dataset/tts_pitch_data.txt', 'a', encoding=\"utf-8\") as fn:        \n",
    "                fn.write(new_line)\n",
    "                fn.write('\\n')"
   ]
  },
  {
   "cell_type": "code",
   "execution_count": null,
   "metadata": {},
   "outputs": [],
   "source": [
    "manifest_path = 'dataset/tts_data.txt'\n",
    "create_picth_text_file(manifest_path)"
   ]
  }
 ],
 "metadata": {
  "kernelspec": {
   "display_name": "torcht2s",
   "language": "python",
   "name": "torcht2s"
  },
  "language_info": {
   "codemirror_mode": {
    "name": "ipython",
    "version": 3
   },
   "file_extension": ".py",
   "mimetype": "text/x-python",
   "name": "python",
   "nbconvert_exporter": "python",
   "pygments_lexer": "ipython3",
   "version": "3.8.5"
  }
 },
 "nbformat": 4,
 "nbformat_minor": 2
}
