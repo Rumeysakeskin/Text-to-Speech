{
 "cells": [
  {
   "cell_type": "code",
   "execution_count": 10,
   "metadata": {},
   "outputs": [
    {
     "name": "stdout",
     "output_type": "stream",
     "text": [
      "Collecting nvidia-pyindex\n",
      "  Downloading nvidia-pyindex-1.0.9.tar.gz (10 kB)\n",
      "Building wheels for collected packages: nvidia-pyindex\n",
      "  Building wheel for nvidia-pyindex (setup.py) ... \u001b[?25ldone\n",
      "\u001b[?25h  Created wheel for nvidia-pyindex: filename=nvidia_pyindex-1.0.9-py3-none-any.whl size=8399 sha256=7ce2ce5aa71dcf5c5c3975151372debdcde8631f0d6c46692e820150ba4afe00\n",
      "  Stored in directory: /root/.cache/pip/wheels/e0/c2/fb/5cf4e1cfaf28007238362cb746fb38fc2dd76348331a748d54\n",
      "Successfully built nvidia-pyindex\n",
      "Installing collected packages: nvidia-pyindex\n",
      "Successfully installed nvidia-pyindex-1.0.9\n",
      "Looking in indexes: https://pypi.org/simple, https://pypi.ngc.nvidia.com\n",
      "Collecting nvidia-dllogger\n",
      "  Downloading https://developer.download.nvidia.com/compute/redist/nvidia-dllogger/nvidia_dllogger-0.1.0-py3-none-any.whl (5.5 kB)\n",
      "Installing collected packages: nvidia-dllogger\n",
      "Successfully installed nvidia-dllogger-0.1.0\n"
     ]
    }
   ],
   "source": [
    "!pip install nvidia-pyindex\n",
    "!pip install nvidia-dllogger"
   ]
  },
  {
   "cell_type": "code",
   "execution_count": 4,
   "metadata": {},
   "outputs": [
    {
     "name": "stdout",
     "output_type": "stream",
     "text": [
      "DLL 2022-12-05 10:51:58.352150 - PARAMETER dataset_path : dataset \n",
      "DLL 2022-12-05 10:51:58.352266 - PARAMETER wav_text_filelists : ['dataset/tts_data.txt'] \n",
      "DLL 2022-12-05 10:51:58.352331 - PARAMETER extract_mels : True \n",
      "DLL 2022-12-05 10:51:58.352394 - PARAMETER extract_pitch : True \n",
      "DLL 2022-12-05 10:51:58.352443 - PARAMETER save_alignment_priors : False \n",
      "DLL 2022-12-05 10:51:58.352491 - PARAMETER log_file : preproc_log.json \n",
      "DLL 2022-12-05 10:51:58.352538 - PARAMETER n_speakers : 1 \n",
      "DLL 2022-12-05 10:51:58.352585 - PARAMETER max_wav_value : 32768.0 \n",
      "DLL 2022-12-05 10:51:58.352633 - PARAMETER sampling_rate : 22050 \n",
      "DLL 2022-12-05 10:51:58.352679 - PARAMETER filter_length : 1024 \n",
      "DLL 2022-12-05 10:51:58.352725 - PARAMETER hop_length : 256 \n",
      "DLL 2022-12-05 10:51:58.352772 - PARAMETER win_length : 1024 \n",
      "DLL 2022-12-05 10:51:58.352818 - PARAMETER mel_fmin : 0.0 \n",
      "DLL 2022-12-05 10:51:58.352874 - PARAMETER mel_fmax : 8000.0 \n",
      "DLL 2022-12-05 10:51:58.352931 - PARAMETER n_mel_channels : 80 \n",
      "DLL 2022-12-05 10:51:58.352978 - PARAMETER f0_method : pyin \n",
      "DLL 2022-12-05 10:51:58.353028 - PARAMETER batch_size : 1 \n",
      "DLL 2022-12-05 10:51:58.353079 - PARAMETER n_workers : 0 \n",
      "Processing dataset/tts_data.txt...\n",
      "100%|█████████████████████████████████████████| 244/244 [12:08<00:00,  2.99s/it]\n",
      "\u001b[0m"
     ]
    }
   ],
   "source": [
    "# Run the pre-processing script to calculate pitch:\n",
    "!(python prepare_dataset.py --wav-text-filelists dataset/tts_data.txt --n-workers 0 --batch-size 1 --dataset-path dataset --extract-pitch --f0-method pyin --extract-mels)"
   ]
  },
  {
   "cell_type": "code",
   "execution_count": 5,
   "metadata": {},
   "outputs": [],
   "source": [
    "# Prepare file lists with paths to pre-calculated pitch:\n",
    "def create_picth_text_file():\n",
    "    manifest_path = 'dataset/tts_data.txt'\n",
    "    with open(manifest_path, 'r', encoding=\"utf-8\") as f:  \n",
    "        Lines = f.readlines()\n",
    "        for line in Lines:\n",
    "            new_line = line.strip()[0:line.find('|')] + \"|pitch\" + \\\n",
    "        line.strip()[line.find('/'):line.find('.wav')] + \".pt\" + line.strip()[line.find('|'):]\n",
    "            with open('dataset/tts_pitch_data.txt', 'a', encoding=\"utf-8\") as fn:        \n",
    "                fn.write(new_line)\n",
    "                fn.write('\\n')\n",
    "                \n",
    "create_picth_text_file()"
   ]
  },
  {
   "cell_type": "code",
   "execution_count": 18,
   "metadata": {
    "scrolled": true
   },
   "outputs": [
    {
     "name": "stdout",
     "output_type": "stream",
     "text": [
      "DLL 2022-12-07 07:03:01.638766 - PARAMETER | output :  /saved_fastpicth_models\n",
      "DLL 2022-12-07 07:03:01.638963 - PARAMETER | dataset_path :  dataset\n",
      "DLL 2022-12-07 07:03:01.639052 - PARAMETER | log_file : \n",
      "DLL 2022-12-07 07:03:01.639128 - PARAMETER | epochs :  100\n",
      "DLL 2022-12-07 07:03:01.639213 - PARAMETER | epochs_per_checkpoint :  5\n",
      "DLL 2022-12-07 07:03:01.639305 - PARAMETER | checkpoint_path : \n",
      "DLL 2022-12-07 07:03:01.639393 - PARAMETER | keep_milestones :  [100, 200, 300, 400, 500, 600, 700, 800, 900]\n",
      "DLL 2022-12-07 07:03:01.639560 - PARAMETER | resume :  False\n",
      "DLL 2022-12-07 07:03:01.639638 - PARAMETER | seed :  1234\n",
      "DLL 2022-12-07 07:03:01.639712 - PARAMETER | amp :  False\n",
      "DLL 2022-12-07 07:03:01.639789 - PARAMETER | cuda :  True\n",
      "DLL 2022-12-07 07:03:01.639882 - PARAMETER | cudnn_benchmark :  False\n",
      "DLL 2022-12-07 07:03:01.639990 - PARAMETER | ema_decay :  0\n",
      "DLL 2022-12-07 07:03:01.640063 - PARAMETER | grad_accumulation :  1\n",
      "DLL 2022-12-07 07:03:01.640174 - PARAMETER | kl_loss_start_epoch :  250\n",
      "DLL 2022-12-07 07:03:01.640245 - PARAMETER | kl_loss_warmup_epochs :  100\n",
      "DLL 2022-12-07 07:03:01.640315 - PARAMETER | kl_loss_weight :  1.0\n",
      "DLL 2022-12-07 07:03:01.640386 - PARAMETER | benchmark_epochs_num :  20\n",
      "DLL 2022-12-07 07:03:01.640457 - PARAMETER | validation_freq :  1\n",
      "DLL 2022-12-07 07:03:01.640527 - PARAMETER | optimizer :  lamb\n",
      "DLL 2022-12-07 07:03:01.640595 - PARAMETER | learning_rate :  0.001\n",
      "DLL 2022-12-07 07:03:01.640666 - PARAMETER | weight_decay :  1e-06\n",
      "DLL 2022-12-07 07:03:01.640739 - PARAMETER | grad_clip_thresh :  1000.0\n",
      "DLL 2022-12-07 07:03:01.640810 - PARAMETER | batch_size :  8\n",
      "DLL 2022-12-07 07:03:01.640891 - PARAMETER | warmup_steps :  1000\n",
      "DLL 2022-12-07 07:03:01.640962 - PARAMETER | dur_predictor_loss_scale :  1.0\n",
      "DLL 2022-12-07 07:03:01.641032 - PARAMETER | pitch_predictor_loss_scale :  1.0\n",
      "DLL 2022-12-07 07:03:01.641102 - PARAMETER | attn_loss_scale :  1.0\n",
      "DLL 2022-12-07 07:03:01.641171 - PARAMETER | training_files :  ['dataset/tts_pitch_data.txt']\n",
      "DLL 2022-12-07 07:03:01.641670 - PARAMETER | validation_files :  ['dataset/tts_pitch_data.txt']\n",
      "DLL 2022-12-07 07:03:01.641747 - PARAMETER | text_cleaners :  ['turkish_cleaners']\n",
      "DLL 2022-12-07 07:03:01.641820 - PARAMETER | symbol_set :  turkish_basic\n",
      "DLL 2022-12-07 07:03:01.641890 - PARAMETER | p_arpabet :  1.0\n",
      "DLL 2022-12-07 07:03:01.641961 - PARAMETER | heteronyms_path :  cmudict/heteronyms\n",
      "DLL 2022-12-07 07:03:01.642030 - PARAMETER | cmudict_path :  cmudict/cmudict-0.7b\n",
      "DLL 2022-12-07 07:03:01.642099 - PARAMETER | prepend_space_to_text :  False\n",
      "DLL 2022-12-07 07:03:01.642168 - PARAMETER | append_space_to_text :  False\n",
      "DLL 2022-12-07 07:03:01.642237 - PARAMETER | num_workers :  2\n",
      "DLL 2022-12-07 07:03:01.642307 - PARAMETER | trainloader_repeats :  100\n",
      "DLL 2022-12-07 07:03:01.642376 - PARAMETER | n_speakers :  1\n",
      "DLL 2022-12-07 07:03:01.642446 - PARAMETER | load_pitch_from_disk :  True\n",
      "DLL 2022-12-07 07:03:01.642514 - PARAMETER | pitch_online_method :  pyin\n",
      "DLL 2022-12-07 07:03:01.642582 - PARAMETER | pitch_online_dir : \n",
      "DLL 2022-12-07 07:03:01.642685 - PARAMETER | pitch_mean :  214.72203\n",
      "DLL 2022-12-07 07:03:01.642782 - PARAMETER | pitch_std :  65.72038\n",
      "DLL 2022-12-07 07:03:01.642877 - PARAMETER | load_mel_from_disk :  False\n",
      "DLL 2022-12-07 07:03:01.642957 - PARAMETER | max_wav_value :  32768.0\n",
      "DLL 2022-12-07 07:03:01.643028 - PARAMETER | sampling_rate :  22050\n",
      "DLL 2022-12-07 07:03:01.643097 - PARAMETER | filter_length :  1024\n",
      "DLL 2022-12-07 07:03:01.643165 - PARAMETER | hop_length :  256\n",
      "DLL 2022-12-07 07:03:01.643234 - PARAMETER | win_length :  1024\n",
      "DLL 2022-12-07 07:03:01.643307 - PARAMETER | mel_fmin :  0.0\n",
      "DLL 2022-12-07 07:03:01.643377 - PARAMETER | mel_fmax :  8000.0\n",
      "DLL 2022-12-07 07:03:01.643446 - PARAMETER | local_rank :  0\n",
      "DLL 2022-12-07 07:03:01.643515 - PARAMETER | world_size :  1\n",
      "WARNING: Disabled --trainloader-repeats, supported only for multi-GPU data loading.\n",
      "Traceback (most recent call last):\n",
      "  File \"train.py\", line 559, in <module>\n",
      "    main()\n",
      "  File \"train.py\", line 430, in main\n",
      "    y_pred = model(x)\n",
      "  File \"/opt/conda/lib/python3.8/site-packages/torch/nn/modules/module.py\", line 881, in _call_impl\n",
      "    result = self.forward(*input, **kwargs)\n",
      "  File \"/data/hxstorage/gpu.training/text-to-speech/text2speech/Fastpitch/fastpitch/model.py\", line 265, in forward\n",
      "    enc_out, enc_mask = self.encoder(inputs, conditioning=spk_emb)\n",
      "  File \"/opt/conda/lib/python3.8/site-packages/torch/nn/modules/module.py\", line 881, in _call_impl\n",
      "    result = self.forward(*input, **kwargs)\n",
      "  File \"/data/hxstorage/gpu.training/text-to-speech/text2speech/Fastpitch/fastpitch/transformer.py\", line 210, in forward\n",
      "    out = layer(out, mask=mask)\n",
      "  File \"/opt/conda/lib/python3.8/site-packages/torch/nn/modules/module.py\", line 881, in _call_impl\n",
      "    result = self.forward(*input, **kwargs)\n",
      "  File \"/data/hxstorage/gpu.training/text-to-speech/text2speech/Fastpitch/fastpitch/transformer.py\", line 163, in forward\n",
      "    output = self.pos_ff(output)\n",
      "  File \"/opt/conda/lib/python3.8/site-packages/torch/nn/modules/module.py\", line 881, in _call_impl\n",
      "    result = self.forward(*input, **kwargs)\n",
      "  File \"/data/hxstorage/gpu.training/text-to-speech/text2speech/Fastpitch/fastpitch/transformer.py\", line 58, in forward\n",
      "    return self._forward(inp)\n",
      "  File \"/data/hxstorage/gpu.training/text-to-speech/text2speech/Fastpitch/fastpitch/transformer.py\", line 72, in _forward\n",
      "    core_out = self.CoreNet(core_out)\n",
      "  File \"/opt/conda/lib/python3.8/site-packages/torch/nn/modules/module.py\", line 881, in _call_impl\n",
      "    result = self.forward(*input, **kwargs)\n",
      "  File \"/opt/conda/lib/python3.8/site-packages/torch/nn/modules/container.py\", line 117, in forward\n",
      "    input = module(input)\n",
      "  File \"/opt/conda/lib/python3.8/site-packages/torch/nn/modules/module.py\", line 881, in _call_impl\n",
      "    result = self.forward(*input, **kwargs)\n",
      "  File \"/opt/conda/lib/python3.8/site-packages/torch/nn/modules/conv.py\", line 258, in forward\n",
      "    return self._conv_forward(input, self.weight, self.bias)\n",
      "  File \"/opt/conda/lib/python3.8/site-packages/torch/nn/modules/conv.py\", line 254, in _conv_forward\n",
      "    return F.conv1d(input, weight, bias, self.stride,\n",
      "RuntimeError: cuDNN error: CUDNN_STATUS_INTERNAL_ERROR\n"
     ]
    }
   ],
   "source": [
    "!(python train.py --cuda --p-arpabet 1.0 --dataset-path dataset --output /saved_fastpicth_models --training-files dataset/tts_pitch_data.txt --validation-files dataset/tts_pitch_data.txt --epochs 100 --learning-rate 0.001 --batch-size 8 --load-pitch-from-disk)"
   ]
  }
 ],
 "metadata": {
  "kernelspec": {
   "display_name": "torcht2s",
   "language": "python",
   "name": "torcht2s"
  },
  "language_info": {
   "codemirror_mode": {
    "name": "ipython",
    "version": 3
   },
   "file_extension": ".py",
   "mimetype": "text/x-python",
   "name": "python",
   "nbconvert_exporter": "python",
   "pygments_lexer": "ipython3",
   "version": "3.8.5"
  }
 },
 "nbformat": 4,
 "nbformat_minor": 2
}
